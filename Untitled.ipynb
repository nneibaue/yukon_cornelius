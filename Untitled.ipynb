{
 "cells": [
  {
   "cell_type": "code",
   "execution_count": 29,
   "metadata": {},
   "outputs": [],
   "source": [
    "import requests\n",
    "import bs4\n",
    "import re"
   ]
  },
  {
   "cell_type": "code",
   "execution_count": 31,
   "metadata": {},
   "outputs": [],
   "source": [
    "html = requests.get('https://www.oldclassiccar.co.uk/forum/phpbb/phpBB2/viewtopic.php?t=12591')\n",
    "soup = bs4.BeautifulSoup(html.text, 'html.parser')"
   ]
  },
  {
   "cell_type": "code",
   "execution_count": 32,
   "metadata": {},
   "outputs": [],
   "source": [
    "#print(soup.prettify())"
   ]
  },
  {
   "cell_type": "code",
   "execution_count": 42,
   "metadata": {},
   "outputs": [],
   "source": [
    "bodies = soup.find_all(attrs={'class', 'postbody'})"
   ]
  },
  {
   "cell_type": "code",
   "execution_count": 34,
   "metadata": {},
   "outputs": [],
   "source": [
    "foo = \"viewtopic.php?p=87120&amp;sid=e59df22820606193401cd68d920d267a#87120\"\n",
    "bar = \"viewtopic.php?p=87131&amp;sid=e59df22820606193401cd68d920d267a#87131\""
   ]
  },
  {
   "cell_type": "code",
   "execution_count": 56,
   "metadata": {},
   "outputs": [
    {
     "data": {
      "text/plain": [
       "[<link href=\"viewtopic.php?t=12591&amp;view=previous&amp;sid=7b535d9c38f918e6ee7f622ad82e5d39\" rel=\"prev\" title=\"View previous topic\"/>,\n",
       " <link href=\"viewtopic.php?t=12591&amp;view=next&amp;sid=7b535d9c38f918e6ee7f622ad82e5d39\" rel=\"next\" title=\"View next topic\"/>,\n",
       " <link href=\"viewforum.php?f=1&amp;sid=7b535d9c38f918e6ee7f622ad82e5d39\" rel=\"up\" title=\"Classic &amp; Vintage Cars - General Chat\"/>,\n",
       " <link href=\"viewforum.php?f=38&amp;sid=7b535d9c38f918e6ee7f622ad82e5d39\" rel=\"chapter forum\" title=\"Welcome To The OldClassicCar Forum\"/>,\n",
       " <link href=\"viewforum.php?f=23&amp;sid=7b535d9c38f918e6ee7f622ad82e5d39\" rel=\"chapter forum\" title=\"Find Old Car Parts &amp; Books on Ebay\"/>,\n",
       " <link href=\"viewforum.php?f=1&amp;sid=7b535d9c38f918e6ee7f622ad82e5d39\" rel=\"chapter forum\" title=\"Classic &amp; Vintage Cars - General Chat\"/>,\n",
       " <link href=\"viewforum.php?f=13&amp;sid=7b535d9c38f918e6ee7f622ad82e5d39\" rel=\"chapter forum\" title=\"Classic Lorries, Steam, Vans, Pickup Trucks, Tractors, &amp; Plant\"/>,\n",
       " <link href=\"viewforum.php?f=36&amp;sid=7b535d9c38f918e6ee7f622ad82e5d39\" rel=\"chapter forum\" title=\"Classic Motorcycles &amp; Bicycles\"/>,\n",
       " <link href=\"viewforum.php?f=41&amp;sid=7b535d9c38f918e6ee7f622ad82e5d39\" rel=\"chapter forum\" title=\"Bodywork &amp; Paint Restoration\"/>,\n",
       " <link href=\"viewforum.php?f=40&amp;sid=7b535d9c38f918e6ee7f622ad82e5d39\" rel=\"chapter forum\" title=\"Electrical Restoration\"/>,\n",
       " <link href=\"viewforum.php?f=42&amp;sid=7b535d9c38f918e6ee7f622ad82e5d39\" rel=\"chapter forum\" title=\"Mechanical Restoration\"/>,\n",
       " <link href=\"viewforum.php?f=24&amp;sid=7b535d9c38f918e6ee7f622ad82e5d39\" rel=\"chapter forum\" title=\"General Restoration Advice\"/>,\n",
       " <link href=\"viewforum.php?f=31&amp;sid=7b535d9c38f918e6ee7f622ad82e5d39\" rel=\"chapter forum\" title=\"Vintage Motoring-Related Toys, Tools &amp; Accessories\"/>,\n",
       " <link href=\"viewforum.php?f=43&amp;sid=7b535d9c38f918e6ee7f622ad82e5d39\" rel=\"chapter forum\" title=\"All Other Cars &amp; Vehicles.\"/>,\n",
       " <link href=\"viewforum.php?f=44&amp;sid=7b535d9c38f918e6ee7f622ad82e5d39\" rel=\"chapter forum\" title=\"Austin\"/>,\n",
       " <link href=\"viewforum.php?f=45&amp;sid=7b535d9c38f918e6ee7f622ad82e5d39\" rel=\"chapter forum\" title=\"Ford\"/>,\n",
       " <link href=\"viewforum.php?f=46&amp;sid=7b535d9c38f918e6ee7f622ad82e5d39\" rel=\"chapter forum\" title=\"Morris\"/>,\n",
       " <link href=\"viewforum.php?f=49&amp;sid=7b535d9c38f918e6ee7f622ad82e5d39\" rel=\"chapter forum\" title=\"Rootes Group &amp; Original Companies (Hillman, Humber, Singer, Sunbeam, Commer etc)\"/>,\n",
       " <link href=\"viewforum.php?f=26&amp;sid=7b535d9c38f918e6ee7f622ad82e5d39\" rel=\"chapter forum\" title=\"Classic Caravans\"/>,\n",
       " <link href=\"viewforum.php?f=54&amp;sid=7b535d9c38f918e6ee7f622ad82e5d39\" rel=\"chapter forum\" title=\"Historic Aviation\"/>,\n",
       " <link href=\"viewforum.php?f=29&amp;sid=7b535d9c38f918e6ee7f622ad82e5d39\" rel=\"chapter forum\" title=\"Your Adverts &amp; Ebay 'finds'\"/>,\n",
       " <link href=\"viewforum.php?f=34&amp;sid=7b535d9c38f918e6ee7f622ad82e5d39\" rel=\"chapter forum\" title=\"Show News, Reports, Press Releases &amp; Photographs\"/>,\n",
       " <link href=\"viewforum.php?f=39&amp;sid=7b535d9c38f918e6ee7f622ad82e5d39\" rel=\"chapter forum\" title=\"General Motoring &amp; Collectables\"/>,\n",
       " <a class=\"maintitle\" href=\"viewtopic.php?t=12591&amp;start=0&amp;postdays=0&amp;postorder=asc&amp;highlight=&amp;sid=7b535d9c38f918e6ee7f622ad82e5d39\">Classic Car Rescue - C5</a>,\n",
       " <a href=\"viewtopic.php?t=12591&amp;postdays=0&amp;postorder=asc&amp;start=15&amp;sid=7b535d9c38f918e6ee7f622ad82e5d39\">2</a>,\n",
       " <a href=\"viewtopic.php?t=12591&amp;postdays=0&amp;postorder=asc&amp;start=30&amp;sid=7b535d9c38f918e6ee7f622ad82e5d39\">3</a>,\n",
       " <a href=\"viewtopic.php?t=12591&amp;postdays=0&amp;postorder=asc&amp;start=45&amp;sid=7b535d9c38f918e6ee7f622ad82e5d39\">4</a>,\n",
       " <a href=\"viewtopic.php?t=12591&amp;postdays=0&amp;postorder=asc&amp;start=60&amp;sid=7b535d9c38f918e6ee7f622ad82e5d39\">5</a>,\n",
       " <a href=\"viewtopic.php?t=12591&amp;postdays=0&amp;postorder=asc&amp;start=75&amp;sid=7b535d9c38f918e6ee7f622ad82e5d39\">6</a>,\n",
       " <a href=\"viewtopic.php?t=12591&amp;postdays=0&amp;postorder=asc&amp;start=90&amp;sid=7b535d9c38f918e6ee7f622ad82e5d39\">7</a>,\n",
       " <a href=\"viewtopic.php?t=12591&amp;postdays=0&amp;postorder=asc&amp;start=105&amp;sid=7b535d9c38f918e6ee7f622ad82e5d39\">8</a>,\n",
       " <a href=\"viewtopic.php?t=12591&amp;postdays=0&amp;postorder=asc&amp;start=120&amp;sid=7b535d9c38f918e6ee7f622ad82e5d39\">9</a>,\n",
       " <a href=\"viewtopic.php?t=12591&amp;postdays=0&amp;postorder=asc&amp;start=15&amp;sid=7b535d9c38f918e6ee7f622ad82e5d39\">Next</a>,\n",
       " <a class=\"nav\" href=\"viewforum.php?f=1&amp;sid=7b535d9c38f918e6ee7f622ad82e5d39\">Classic &amp; Vintage Cars - General Chat</a>,\n",
       " <a href=\"viewtopic.php?p=87120&amp;sid=7b535d9c38f918e6ee7f622ad82e5d39#87120\"><img alt=\"Post\" border=\"0\" height=\"9\" src=\"templates/subSilver/images/icon_minipost.gif\" title=\"Post\" width=\"12\"/></a>,\n",
       " <a href=\"viewtopic.php?p=87131&amp;sid=7b535d9c38f918e6ee7f622ad82e5d39#87131\"><img alt=\"Post\" border=\"0\" height=\"9\" src=\"templates/subSilver/images/icon_minipost.gif\" title=\"Post\" width=\"12\"/></a>,\n",
       " <a href=\"viewtopic.php?p=87133&amp;sid=7b535d9c38f918e6ee7f622ad82e5d39#87133\"><img alt=\"Post\" border=\"0\" height=\"9\" src=\"templates/subSilver/images/icon_minipost.gif\" title=\"Post\" width=\"12\"/></a>,\n",
       " <a href=\"viewtopic.php?p=87135&amp;sid=7b535d9c38f918e6ee7f622ad82e5d39#87135\"><img alt=\"Post\" border=\"0\" height=\"9\" src=\"templates/subSilver/images/icon_minipost.gif\" title=\"Post\" width=\"12\"/></a>,\n",
       " <a href=\"viewtopic.php?p=87136&amp;sid=7b535d9c38f918e6ee7f622ad82e5d39#87136\"><img alt=\"Post\" border=\"0\" height=\"9\" src=\"templates/subSilver/images/icon_minipost.gif\" title=\"Post\" width=\"12\"/></a>,\n",
       " <a href=\"viewtopic.php?p=87139&amp;sid=7b535d9c38f918e6ee7f622ad82e5d39#87139\"><img alt=\"Post\" border=\"0\" height=\"9\" src=\"templates/subSilver/images/icon_minipost.gif\" title=\"Post\" width=\"12\"/></a>,\n",
       " <a href=\"viewtopic.php?p=87140&amp;sid=7b535d9c38f918e6ee7f622ad82e5d39#87140\"><img alt=\"Post\" border=\"0\" height=\"9\" src=\"templates/subSilver/images/icon_minipost.gif\" title=\"Post\" width=\"12\"/></a>,\n",
       " <a href=\"viewtopic.php?p=87142&amp;sid=7b535d9c38f918e6ee7f622ad82e5d39#87142\"><img alt=\"Post\" border=\"0\" height=\"9\" src=\"templates/subSilver/images/icon_minipost.gif\" title=\"Post\" width=\"12\"/></a>,\n",
       " <a href=\"viewtopic.php?p=87146&amp;sid=7b535d9c38f918e6ee7f622ad82e5d39#87146\"><img alt=\"Post\" border=\"0\" height=\"9\" src=\"templates/subSilver/images/icon_minipost.gif\" title=\"Post\" width=\"12\"/></a>,\n",
       " <a href=\"viewtopic.php?p=87148&amp;sid=7b535d9c38f918e6ee7f622ad82e5d39#87148\"><img alt=\"Post\" border=\"0\" height=\"9\" src=\"templates/subSilver/images/icon_minipost.gif\" title=\"Post\" width=\"12\"/></a>,\n",
       " <a href=\"viewtopic.php?p=87149&amp;sid=7b535d9c38f918e6ee7f622ad82e5d39#87149\"><img alt=\"Post\" border=\"0\" height=\"9\" src=\"templates/subSilver/images/icon_minipost.gif\" title=\"Post\" width=\"12\"/></a>,\n",
       " <a href=\"viewtopic.php?p=87151&amp;sid=7b535d9c38f918e6ee7f622ad82e5d39#87151\"><img alt=\"Post\" border=\"0\" height=\"9\" src=\"templates/subSilver/images/icon_minipost.gif\" title=\"Post\" width=\"12\"/></a>,\n",
       " <a href=\"viewtopic.php?p=87154&amp;sid=7b535d9c38f918e6ee7f622ad82e5d39#87154\"><img alt=\"Post\" border=\"0\" height=\"9\" src=\"templates/subSilver/images/icon_minipost.gif\" title=\"Post\" width=\"12\"/></a>,\n",
       " <a href=\"viewtopic.php?p=87156&amp;sid=7b535d9c38f918e6ee7f622ad82e5d39#87156\"><img alt=\"Post\" border=\"0\" height=\"9\" src=\"templates/subSilver/images/icon_minipost.gif\" title=\"Post\" width=\"12\"/></a>,\n",
       " <a href=\"viewtopic.php?p=87157&amp;sid=7b535d9c38f918e6ee7f622ad82e5d39#87157\"><img alt=\"Post\" border=\"0\" height=\"9\" src=\"templates/subSilver/images/icon_minipost.gif\" title=\"Post\" width=\"12\"/></a>,\n",
       " <a class=\"nav\" href=\"viewforum.php?f=1&amp;sid=7b535d9c38f918e6ee7f622ad82e5d39\">Classic &amp; Vintage Cars - General Chat</a>,\n",
       " <a href=\"viewtopic.php?t=12591&amp;postdays=0&amp;postorder=asc&amp;start=15&amp;sid=7b535d9c38f918e6ee7f622ad82e5d39\">2</a>,\n",
       " <a href=\"viewtopic.php?t=12591&amp;postdays=0&amp;postorder=asc&amp;start=30&amp;sid=7b535d9c38f918e6ee7f622ad82e5d39\">3</a>,\n",
       " <a href=\"viewtopic.php?t=12591&amp;postdays=0&amp;postorder=asc&amp;start=45&amp;sid=7b535d9c38f918e6ee7f622ad82e5d39\">4</a>,\n",
       " <a href=\"viewtopic.php?t=12591&amp;postdays=0&amp;postorder=asc&amp;start=60&amp;sid=7b535d9c38f918e6ee7f622ad82e5d39\">5</a>,\n",
       " <a href=\"viewtopic.php?t=12591&amp;postdays=0&amp;postorder=asc&amp;start=75&amp;sid=7b535d9c38f918e6ee7f622ad82e5d39\">6</a>,\n",
       " <a href=\"viewtopic.php?t=12591&amp;postdays=0&amp;postorder=asc&amp;start=90&amp;sid=7b535d9c38f918e6ee7f622ad82e5d39\">7</a>,\n",
       " <a href=\"viewtopic.php?t=12591&amp;postdays=0&amp;postorder=asc&amp;start=105&amp;sid=7b535d9c38f918e6ee7f622ad82e5d39\">8</a>,\n",
       " <a href=\"viewtopic.php?t=12591&amp;postdays=0&amp;postorder=asc&amp;start=120&amp;sid=7b535d9c38f918e6ee7f622ad82e5d39\">9</a>,\n",
       " <a href=\"viewtopic.php?t=12591&amp;postdays=0&amp;postorder=asc&amp;start=15&amp;sid=7b535d9c38f918e6ee7f622ad82e5d39\">Next</a>]"
      ]
     },
     "execution_count": 56,
     "metadata": {},
     "output_type": "execute_result"
    }
   ],
   "source": [
    "pattern = re.compile(r'^view.*')\n",
    "soup.find_all(lambda tag: tag.has_attr('href') and re.search(pattern, tag.attrs['href']))"
   ]
  },
  {
   "cell_type": "code",
   "execution_count": 60,
   "metadata": {},
   "outputs": [
    {
     "data": {
      "text/plain": [
       "[<a href=\"viewtopic.php?p=87120&amp;sid=7b535d9c38f918e6ee7f622ad82e5d39#87120\"><img alt=\"Post\" border=\"0\" height=\"9\" src=\"templates/subSilver/images/icon_minipost.gif\" title=\"Post\" width=\"12\"/></a>,\n",
       " <a href=\"viewtopic.php?p=87131&amp;sid=7b535d9c38f918e6ee7f622ad82e5d39#87131\"><img alt=\"Post\" border=\"0\" height=\"9\" src=\"templates/subSilver/images/icon_minipost.gif\" title=\"Post\" width=\"12\"/></a>,\n",
       " <a href=\"viewtopic.php?p=87133&amp;sid=7b535d9c38f918e6ee7f622ad82e5d39#87133\"><img alt=\"Post\" border=\"0\" height=\"9\" src=\"templates/subSilver/images/icon_minipost.gif\" title=\"Post\" width=\"12\"/></a>,\n",
       " <a href=\"viewtopic.php?p=87135&amp;sid=7b535d9c38f918e6ee7f622ad82e5d39#87135\"><img alt=\"Post\" border=\"0\" height=\"9\" src=\"templates/subSilver/images/icon_minipost.gif\" title=\"Post\" width=\"12\"/></a>,\n",
       " <a href=\"viewtopic.php?p=87136&amp;sid=7b535d9c38f918e6ee7f622ad82e5d39#87136\"><img alt=\"Post\" border=\"0\" height=\"9\" src=\"templates/subSilver/images/icon_minipost.gif\" title=\"Post\" width=\"12\"/></a>,\n",
       " <a href=\"viewtopic.php?p=87139&amp;sid=7b535d9c38f918e6ee7f622ad82e5d39#87139\"><img alt=\"Post\" border=\"0\" height=\"9\" src=\"templates/subSilver/images/icon_minipost.gif\" title=\"Post\" width=\"12\"/></a>,\n",
       " <a href=\"viewtopic.php?p=87140&amp;sid=7b535d9c38f918e6ee7f622ad82e5d39#87140\"><img alt=\"Post\" border=\"0\" height=\"9\" src=\"templates/subSilver/images/icon_minipost.gif\" title=\"Post\" width=\"12\"/></a>,\n",
       " <a href=\"viewtopic.php?p=87142&amp;sid=7b535d9c38f918e6ee7f622ad82e5d39#87142\"><img alt=\"Post\" border=\"0\" height=\"9\" src=\"templates/subSilver/images/icon_minipost.gif\" title=\"Post\" width=\"12\"/></a>,\n",
       " <a href=\"viewtopic.php?p=87146&amp;sid=7b535d9c38f918e6ee7f622ad82e5d39#87146\"><img alt=\"Post\" border=\"0\" height=\"9\" src=\"templates/subSilver/images/icon_minipost.gif\" title=\"Post\" width=\"12\"/></a>,\n",
       " <a href=\"viewtopic.php?p=87148&amp;sid=7b535d9c38f918e6ee7f622ad82e5d39#87148\"><img alt=\"Post\" border=\"0\" height=\"9\" src=\"templates/subSilver/images/icon_minipost.gif\" title=\"Post\" width=\"12\"/></a>,\n",
       " <a href=\"viewtopic.php?p=87149&amp;sid=7b535d9c38f918e6ee7f622ad82e5d39#87149\"><img alt=\"Post\" border=\"0\" height=\"9\" src=\"templates/subSilver/images/icon_minipost.gif\" title=\"Post\" width=\"12\"/></a>,\n",
       " <a href=\"viewtopic.php?p=87151&amp;sid=7b535d9c38f918e6ee7f622ad82e5d39#87151\"><img alt=\"Post\" border=\"0\" height=\"9\" src=\"templates/subSilver/images/icon_minipost.gif\" title=\"Post\" width=\"12\"/></a>,\n",
       " <a href=\"viewtopic.php?p=87154&amp;sid=7b535d9c38f918e6ee7f622ad82e5d39#87154\"><img alt=\"Post\" border=\"0\" height=\"9\" src=\"templates/subSilver/images/icon_minipost.gif\" title=\"Post\" width=\"12\"/></a>,\n",
       " <a href=\"viewtopic.php?p=87156&amp;sid=7b535d9c38f918e6ee7f622ad82e5d39#87156\"><img alt=\"Post\" border=\"0\" height=\"9\" src=\"templates/subSilver/images/icon_minipost.gif\" title=\"Post\" width=\"12\"/></a>,\n",
       " <a href=\"viewtopic.php?p=87157&amp;sid=7b535d9c38f918e6ee7f622ad82e5d39#87157\"><img alt=\"Post\" border=\"0\" height=\"9\" src=\"templates/subSilver/images/icon_minipost.gif\" title=\"Post\" width=\"12\"/></a>]"
      ]
     },
     "execution_count": 60,
     "metadata": {},
     "output_type": "execute_result"
    }
   ],
   "source": [
    "forumline = soup.find_all(attrs={'class': 'forumline'})\n",
    "forumline[0].find_all(lambda tag: tag.has_attr('href') and re.search(pattern, tag.attrs['href']))"
   ]
  },
  {
   "cell_type": "code",
   "execution_count": 46,
   "metadata": {},
   "outputs": [],
   "source": [
    "cag = bodies[0]"
   ]
  },
  {
   "cell_type": "code",
   "execution_count": 47,
   "metadata": {},
   "outputs": [
    {
     "data": {
      "text/plain": [
       "{'class': ['postbody']}"
      ]
     },
     "execution_count": 47,
     "metadata": {},
     "output_type": "execute_result"
    }
   ],
   "source": [
    "tag.attrs"
   ]
  },
  {
   "cell_type": "code",
   "execution_count": 48,
   "metadata": {},
   "outputs": [],
   "source": [
    "links = soup.find_all(name='a')"
   ]
  },
  {
   "cell_type": "code",
   "execution_count": 53,
   "metadata": {},
   "outputs": [
    {
     "data": {
      "text/plain": [
       "{'href': 'https://www.oldclassiccar.co.uk/forum/phpbb/phpBB2/'}"
      ]
     },
     "execution_count": 53,
     "metadata": {},
     "output_type": "execute_result"
    }
   ],
   "source": [
    "links[1].attrs"
   ]
  },
  {
   "cell_type": "code",
   "execution_count": null,
   "metadata": {},
   "outputs": [],
   "source": []
  }
 ],
 "metadata": {
  "kernelspec": {
   "display_name": "Python 3",
   "language": "python",
   "name": "python3"
  },
  "language_info": {
   "codemirror_mode": {
    "name": "ipython",
    "version": 3
   },
   "file_extension": ".py",
   "mimetype": "text/x-python",
   "name": "python",
   "nbconvert_exporter": "python",
   "pygments_lexer": "ipython3",
   "version": "3.8.6"
  }
 },
 "nbformat": 4,
 "nbformat_minor": 4
}
